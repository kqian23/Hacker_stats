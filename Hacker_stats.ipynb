{
 "cells": [
  {
   "cell_type": "code",
   "execution_count": 18,
   "metadata": {},
   "outputs": [
    {
     "data": {
      "image/png": "[encoded data removed]",
      "text/plain": [
       "<Figure size 432x288 with 1 Axes>"
      ]
     },
     "metadata": {
      "needs_background": "light"
     },
     "output_type": "display_data"
    },
    {
     "name": "stdout",
     "output_type": "stream",
     "text": [
      "The percentage of times that level 60 is reached is 77.7%\n"
     ]
    }
   ],
   "source": [
    "import numpy as np\n",
    "import matplotlib.pyplot as plt\n",
    "\n",
    "record=[]\n",
    "for x in range(500):\n",
    "    level = [0]\n",
    "    for n in range(100):\n",
    "        move = level[-1]\n",
    "        dice = np.random.randint(1,7)\n",
    "        if dice<3:\n",
    "            move = max(move-1,0)\n",
    "        elif dice>2 and dice <6:\n",
    "            move = move+1\n",
    "        else:\n",
    "            move = move + np.random.randint(1,7)\n",
    "        if np.random.rand()<0.001:\n",
    "            move = 0\n",
    "        level.append(move)\n",
    "    record.append(level)\n",
    "\n",
    "    \n",
    "record_ar = np.array(record)\n",
    "final_level = record_ar[:,-1]\n",
    "\n",
    "#print(record_ar)\n",
    "#print(final_level)\n",
    "\n",
    "plt.hist(final_level)\n",
    "plt.show()\n",
    "\n",
    "percent_over_60 = np.count_nonzero(final_level>=60)/np.count_nonzero(final_level)\n",
    "print(\"The percentage of times that level 60 is reached is \"+ \"{0:.1%}\".format(percent_over_60))"
   ]
  },
  {
   "cell_type": "code",
   "execution_count": null,
   "metadata": {},
   "outputs": [],
   "source": []
  }
 ],
 "metadata": {
  "kernelspec": {
   "display_name": "Python 3",
   "language": "python",
   "name": "python3"
  },
  "language_info": {
   "codemirror_mode": {
    "name": "ipython",
    "version": 3
   },
   "file_extension": ".py",
   "mimetype": "text/x-python",
   "name": "python",
   "nbconvert_exporter": "python",
   "pygments_lexer": "ipython3",
   "version": "3.7.7"
  }
 },
 "nbformat": 4,
 "nbformat_minor": 4
}
