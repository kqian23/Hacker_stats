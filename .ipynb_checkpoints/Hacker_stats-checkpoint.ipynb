{
 "cells": [
  {
   "cell_type": "code",
   "execution_count": 1,
   "metadata": {},
   "outputs": [],
   "source": [
    "import numpy as np\n",
    "import matplotlib.pyplot as plt"
   ]
  },
  {
   "cell_type": "markdown",
   "metadata": {},
   "source": [
    "### Run a random walk of 100 steps"
   ]
  },
  {
   "cell_type": "code",
   "execution_count": 20,
   "metadata": {},
   "outputs": [
    {
     "name": "stdout",
     "output_type": "stream",
     "text": [
      "[0, 51, 51, 51, 51, 56, 51, 50, 51, 50, 51, 51, 51, 50, 49, 51, 51, 50, 55, 51, 51, 50, 51, 51, 50, 52, 51, 51, 50, 51, 50, 51, 51, 57, 51, 50, 49, 52, 51, 54, 51, 50, 49, 48, 51, 51, 50, 49, 51, 51, 50, 51, 52, 51, 53, 52, 51, 50, 51, 50, 51, 50, 53, 52, 51, 50, 51, 51, 51, 50, 53, 52, 58, 64, 51, 50, 51, 54, 53, 52, 51, 51, 51, 55, 54, 58, 51, 50, 56, 55, 51, 50, 51, 55, 54, 51, 50, 51, 51, 51, 50]\n",
      "\n",
      "The final level arrived is the 50th floor\n"
     ]
    }
   ],
   "source": [
    "levels = [0]\n",
    "for n in range(100):\n",
    "    cur = levels[-1]    # set the current level to the latest level\n",
    "    # roll a dice to get random interger from 1 to 6\n",
    "    dice = np.random.randint(1,7)\n",
    "    # impmlement the rule \n",
    "    if dice<3:\n",
    "        cur = max(cur-1,0)\n",
    "    elif dice>2 and dice <6:\n",
    "        cur = cur+1\n",
    "    else:\n",
    "        cur = cur + np.random.randint(1,7)\n",
    "    if np.random.rand()<0.001:\n",
    "        cur = 0\n",
    "    # add the final current level to the level record\n",
    "    levels.append(cur)\n",
    "print(levels)\n",
    "print(\"\\nThe final level arrived is the \"+ str(level[-1])+ \"th floor\")"
   ]
  },
  {
   "cell_type": "markdown",
   "metadata": {},
   "source": [
    "### What if we repeat the game above for 500 times?"
   ]
  },
  {
   "cell_type": "code",
   "execution_count": 47,
   "metadata": {},
   "outputs": [
    {
     "data": {
      "image/png": "[encoded data removed]",
      "text/plain": [
       "<Figure size 432x288 with 1 Axes>"
      ]
     },
     "metadata": {
      "needs_background": "light"
     },
     "output_type": "display_data"
    },
    {
     "name": "stdout",
     "output_type": "stream",
     "text": [
      "Average final level achieved is 71.0th floor\n",
      "Max final level achieved is 132th floor\n",
      "Min final level achieved is 0th floor\n",
      "The percentage that the final level is above 60th is 75.80%\n"
     ]
    }
   ],
   "source": [
    "record=[]\n",
    "# Repeat the game for 500 times \n",
    "for x in range(500):\n",
    "    levels = [0]\n",
    "    for n in range(100):\n",
    "        cur = levels[-1]    # set the current level to the latest level\n",
    "        # roll a dice to get random interger from 1 to 6\n",
    "        dice = np.random.randint(1,7)\n",
    "        # impmlement the rule \n",
    "        if dice<3:\n",
    "            cur = max(cur-1,0)\n",
    "        elif dice <6:\n",
    "            cur = cur+1\n",
    "        else:\n",
    "            cur = cur + np.random.randint(1,7)\n",
    "        if np.random.rand()<=0.001:\n",
    "            cur = 0\n",
    "        # add the final current level to the level record\n",
    "        levels.append(cur)\n",
    "    record.append(levels)\n",
    "\n",
    "# convert the nested list into numpy array\n",
    "record_ar = np.array(record)\n",
    "# extract the final level for each game\n",
    "final_level = record_ar[:,-1]\n",
    "# plot the final level in a histogramm\n",
    "plt.hist(final_level)\n",
    "plt.show()\n",
    "\n",
    "# calculate some statistics\n",
    "print(\"Average final level achieved is \" + str(final_level.mean().round()) + \"th floor\")\n",
    "print(\"Max final level achieved is \" + str(final_level.max().round()) + \"th floor\")\n",
    "print(\"Min final level achieved is \" + str(final_level.min().round()) + \"th floor\")\n",
    "print(\"The percentage that the final level is above 60th is \" + \"{:.2%}\".format(np.count_nonzero(final_level>=60)/len(final_level)))"
   ]
  },
  {
   "cell_type": "code",
   "execution_count": null,
   "metadata": {},
   "outputs": [],
   "source": []
  },
  {
   "cell_type": "code",
   "execution_count": null,
   "metadata": {},
   "outputs": [],
   "source": []
  }
 ],
 "metadata": {
  "kernelspec": {
   "display_name": "Python 3",
   "language": "python",
   "name": "python3"
  },
  "language_info": {
   "codemirror_mode": {
    "name": "ipython",
    "version": 3
   },
   "file_extension": ".py",
   "mimetype": "text/x-python",
   "name": "python",
   "nbconvert_exporter": "python",
   "pygments_lexer": "ipython3",
   "version": "3.7.7"
  }
 },
 "nbformat": 4,
 "nbformat_minor": 4
}
